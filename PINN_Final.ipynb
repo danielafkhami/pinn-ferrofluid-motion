{
  "cells": [
    {
      "cell_type": "code",
      "execution_count": 1,
      "metadata": {
        "id": "dUbhnIoo7e1C"
      },
      "outputs": [],
      "source": [
        "import numpy as np\n",
        "import tensorflow as tf\n",
        "from scipy.integrate import quad\n",
        "import matplotlib.pyplot as plt"
      ]
    },
    {
      "cell_type": "code",
      "execution_count": 2,
      "metadata": {
        "id": "_6HUjPBqJnun"
      },
      "outputs": [],
      "source": [
        "tf.random.set_seed(42)\n",
        "np.random.seed(42)\n",
        "\n",
        "#Physical constants and parameters\n",
        "r = 10 ** -3\n",
        "Mu = 4 * np.pi * 10 ** -7\n",
        "V = (4 / 3) * np.pi * r ** 3\n",
        "m = 2 * 10 ** -19\n",
        "kB = 1.3806488 * 10 ** -23\n",
        "Ms = 23.5 * 10 ** 3\n",
        "T = 300\n",
        "Visc = 50\n",
        "\n",
        "L = 1E-3"
      ]
    },
    {
      "cell_type": "code",
      "execution_count": 3,
      "metadata": {
        "id": "xsk0L6kE7ofe"
      },
      "outputs": [],
      "source": [
        "#Magnetic force as a function of distance x\n",
        "def FM(x):\n",
        "\n",
        "    coth = lambda x: 1 / np.tanh(x)\n",
        "\n",
        "    #Polynomial fit for magnetic field strength H(x)\n",
        "    a5, a4, a3, a2, a1, a0 = (\n",
        "        -2.5573e13, 2.5005e12, -9.538e10, 1.7906e9, -1.699e7, 69605.5\n",
        "    )\n",
        "    Hs = a5 * x**5 + a4 * x**4 + a3 * x**3 + a2 * x**2 + a1 * x + a0\n",
        "    abs_Hs = np.abs(Hs)\n",
        "\n",
        "    #Langevin function approximation for magnetization\n",
        "    coth_term = coth((Mu * m / (kB * T)) * abs_Hs)\n",
        "    Mfit = Ms * (coth_term - (kB * T) / (Mu * m * abs_Hs)) * Hs / abs_Hs\n",
        "\n",
        "    #Derivative of H(x) with respect to x\n",
        "    DH = 5 * a5 * x**4 + 4 * a4 * x**3 + 3 * a3 * x**2 + 2 * a2 * x + a1\n",
        "\n",
        "    #Magnetic force expression\n",
        "    Fmx = -(V * Mu) * Mfit * DH\n",
        "\n",
        "    return Fmx\n",
        "\n",
        "#Numerical computation of ODE for the calculation of traversal time\n",
        "def compute_time(z, r, Visc):\n",
        "    time, _ = quad(lambda x: (6 * np.pi * r * Visc / FM(x)), 0, z)\n",
        "    return time"
      ]
    },
    {
      "cell_type": "code",
      "execution_count": 4,
      "metadata": {
        "id": "kpRikiaH7tyE"
      },
      "outputs": [],
      "source": [
        "eq = lambda z: compute_time(z, r, Visc)\n",
        "\n",
        "#Generate training data\n",
        "x_train = np.linspace(0.015, 0.02, 4).reshape(-1, 1)\n",
        "t_train = np.array(np.array([eq(xi) for xi in x_train]) + np.random.normal(0, 200, 4)).reshape(-1, 1) #Introduce Gaussian noise\n",
        "\n",
        "#Scale data for training\n",
        "x_train_scaled = x_train / L\n",
        "t_train_scaled = (np.log(t_train)).reshape(-1, 1)\n",
        "\n",
        "x_train_tf = tf.convert_to_tensor(x_train_scaled, dtype=tf.float32)\n",
        "t_train_tf = tf.convert_to_tensor(t_train_scaled, dtype=tf.float32)"
      ]
    },
    {
      "cell_type": "code",
      "execution_count": 5,
      "metadata": {
        "id": "0begV0Xv7xKl"
      },
      "outputs": [],
      "source": [
        "#Define nueral network architecture\n",
        "class Net(tf.keras.Model):\n",
        "    def __init__(self, n_units=100):\n",
        "        super(Net, self).__init__()\n",
        "        self.hidden_1 = tf.keras.layers.Dense(n_units, activation='relu')\n",
        "        self.hidden_2 = tf.keras.layers.Dense(n_units, activation='relu')\n",
        "        self.hidden_3 = tf.keras.layers.Dense(n_units, activation='relu')\n",
        "        self.hidden_4 = tf.keras.layers.Dense(n_units, activation='relu')\n",
        "        self.out = tf.keras.layers.Dense(1, activation = None)\n",
        "\n",
        "\n",
        "    def call(self, x):\n",
        "        x = self.hidden_1(x)\n",
        "        x = self.hidden_2(x)\n",
        "        x = self.hidden_3(x)\n",
        "        x = self.hidden_4(x)\n",
        "        return self.out(x)\n",
        "\n",
        "#Physics-informed loss function\n",
        "def physics_loss(model):\n",
        "  x = np.linspace(0.0, 0.02, 1000).reshape(-1, 1)\n",
        "  ode = 6 * np.pi * r * Visc / FM(x)\n",
        "\n",
        "  #Normalize input\n",
        "  x = x / L\n",
        "  x = tf.convert_to_tensor(x, dtype=tf.float32)\n",
        "\n",
        "  with tf.GradientTape() as tape:\n",
        "    tape.watch(x)\n",
        "    pred = model(x)\n",
        "    dT = tape.gradient(pred, x)\n",
        "\n",
        "  #Residual of the governing equation\n",
        "  pde_residual = ode - (np.exp(pred)/L)*dT\n",
        "  return tf.reduce_mean(tf.square(pde_residual))"
      ]
    },
    {
      "cell_type": "code",
      "execution_count": 6,
      "metadata": {
        "id": "cpGZgTzcNgVN"
      },
      "outputs": [],
      "source": [
        "#Training loop utilizing combined data loss and physics loss\n",
        "def train_model(model, x_train, y_train, epochs=10000, lr=1e-4, loss_weight=1e0):\n",
        "    optimizer = tf.keras.optimizers.Adam(learning_rate=lr)\n",
        "\n",
        "    for epoch in range(epochs):\n",
        "        with tf.GradientTape() as tape:\n",
        "            y_pred = model(x_train)\n",
        "            data_loss = tf.reduce_mean(tf.square(y_pred - y_train))\n",
        "            phys_loss = physics_loss(model)\n",
        "            total_loss = data_loss + loss_weight * phys_loss\n",
        "\n",
        "        gradients = tape.gradient(total_loss, model.trainable_variables)\n",
        "        optimizer.apply_gradients(zip(gradients, model.trainable_variables))\n",
        "\n",
        "        if epoch % 50 == 0:\n",
        "            print(f\"Epoch {epoch}, Loss: {total_loss.numpy()}, Data Loss: {data_loss.numpy()}, Physics Loss: {phys_loss.numpy()}\")"
      ]
    },
    {
      "cell_type": "code",
      "execution_count": 7,
      "metadata": {
        "colab": {
          "base_uri": "https://localhost:8080/"
        },
        "id": "nXldxlyw72tI",
        "outputId": "c92c4d75-6c78-4b89-8c23-0ad25c9b40ad"
      },
      "outputs": [
        {
          "output_type": "stream",
          "name": "stdout",
          "text": [
            "Epoch 0, Loss: 116444413952.0, Data Loss: 59.60179138183594, Physics Loss: 116444413952.0\n",
            "Epoch 50, Loss: 94872371200.0, Data Loss: 6.195950508117676, Physics Loss: 94872371200.0\n",
            "Epoch 100, Loss: 7354418176.0, Data Loss: 0.42423275113105774, Physics Loss: 7354418176.0\n",
            "Epoch 150, Loss: 7202664448.0, Data Loss: 0.4358408451080322, Physics Loss: 7202664448.0\n",
            "Epoch 200, Loss: 7132705280.0, Data Loss: 0.4244845509529114, Physics Loss: 7132705280.0\n",
            "Epoch 250, Loss: 7044564992.0, Data Loss: 0.4163062572479248, Physics Loss: 7044564992.0\n",
            "Epoch 300, Loss: 6948699136.0, Data Loss: 0.4079550802707672, Physics Loss: 6948699136.0\n",
            "Epoch 350, Loss: 6847488000.0, Data Loss: 0.3991478681564331, Physics Loss: 6847488000.0\n",
            "Epoch 400, Loss: 6741711360.0, Data Loss: 0.39001399278640747, Physics Loss: 6741711360.0\n",
            "Epoch 450, Loss: 6632098304.0, Data Loss: 0.38061997294425964, Physics Loss: 6632098304.0\n",
            "Epoch 500, Loss: 6519308288.0, Data Loss: 0.3710271716117859, Physics Loss: 6519308288.0\n",
            "Epoch 550, Loss: 6404520960.0, Data Loss: 0.3610990345478058, Physics Loss: 6404520960.0\n",
            "Epoch 600, Loss: 6286163968.0, Data Loss: 0.3514709174633026, Physics Loss: 6286163968.0\n",
            "Epoch 650, Loss: 6166756352.0, Data Loss: 0.3415727913379669, Physics Loss: 6166756352.0\n",
            "Epoch 700, Loss: 6046008320.0, Data Loss: 0.3316304385662079, Physics Loss: 6046008320.0\n",
            "Epoch 750, Loss: 5924242432.0, Data Loss: 0.3216716945171356, Physics Loss: 5924242432.0\n",
            "Epoch 800, Loss: 5801537024.0, Data Loss: 0.3117794096469879, Physics Loss: 5801537024.0\n",
            "Epoch 850, Loss: 5678260224.0, Data Loss: 0.3019494116306305, Physics Loss: 5678260224.0\n",
            "Epoch 900, Loss: 5554541056.0, Data Loss: 0.29223039746284485, Physics Loss: 5554541056.0\n",
            "Epoch 950, Loss: 5431172096.0, Data Loss: 0.2824654281139374, Physics Loss: 5431172096.0\n",
            "Epoch 1000, Loss: 5307649536.0, Data Loss: 0.27287721633911133, Physics Loss: 5307649536.0\n",
            "Epoch 1050, Loss: 5184267264.0, Data Loss: 0.2634389400482178, Physics Loss: 5184267264.0\n",
            "Epoch 1100, Loss: 5061415424.0, Data Loss: 0.2540934681892395, Physics Loss: 5061415424.0\n",
            "Epoch 1150, Loss: 4939272192.0, Data Loss: 0.24484264850616455, Physics Loss: 4939272192.0\n",
            "Epoch 1200, Loss: 4810307072.0, Data Loss: 0.23552469909191132, Physics Loss: 4810307072.0\n",
            "Epoch 1250, Loss: 4689518080.0, Data Loss: 0.22647827863693237, Physics Loss: 4689518080.0\n",
            "Epoch 1300, Loss: 4567490048.0, Data Loss: 0.21751217544078827, Physics Loss: 4567490048.0\n",
            "Epoch 1350, Loss: 4437153280.0, Data Loss: 0.2082061767578125, Physics Loss: 4437153280.0\n",
            "Epoch 1400, Loss: 4308725248.0, Data Loss: 0.19903287291526794, Physics Loss: 4308725248.0\n",
            "Epoch 1450, Loss: 4180885248.0, Data Loss: 0.1900511085987091, Physics Loss: 4180885248.0\n",
            "Epoch 1500, Loss: 4053313280.0, Data Loss: 0.18138284981250763, Physics Loss: 4053313280.0\n",
            "Epoch 1550, Loss: 3928293120.0, Data Loss: 0.17272043228149414, Physics Loss: 3928293120.0\n",
            "Epoch 1600, Loss: 3802580736.0, Data Loss: 0.16381707787513733, Physics Loss: 3802580736.0\n",
            "Epoch 1650, Loss: 3680202496.0, Data Loss: 0.1558581441640854, Physics Loss: 3680202496.0\n",
            "Epoch 1700, Loss: 3560567296.0, Data Loss: 0.14795763790607452, Physics Loss: 3560567296.0\n",
            "Epoch 1750, Loss: 3442859264.0, Data Loss: 0.14027339220046997, Physics Loss: 3442859264.0\n",
            "Epoch 1800, Loss: 3327007744.0, Data Loss: 0.13284094631671906, Physics Loss: 3327007744.0\n",
            "Epoch 1850, Loss: 3213149184.0, Data Loss: 0.12559571862220764, Physics Loss: 3213149184.0\n",
            "Epoch 1900, Loss: 3100975616.0, Data Loss: 0.11861254274845123, Physics Loss: 3100975616.0\n",
            "Epoch 1950, Loss: 2991096064.0, Data Loss: 0.11176846921443939, Physics Loss: 2991096064.0\n",
            "Epoch 2000, Loss: 2884468480.0, Data Loss: 0.10497839003801346, Physics Loss: 2884468480.0\n",
            "Epoch 2050, Loss: 2778556672.0, Data Loss: 0.09893608838319778, Physics Loss: 2778556672.0\n",
            "Epoch 2100, Loss: 2674771968.0, Data Loss: 0.09310010075569153, Physics Loss: 2674771968.0\n",
            "Epoch 2150, Loss: 2576562432.0, Data Loss: 0.08687497675418854, Physics Loss: 2576562432.0\n",
            "Epoch 2200, Loss: 2477573120.0, Data Loss: 0.08172258734703064, Physics Loss: 2477573120.0\n",
            "Epoch 2250, Loss: 2383588864.0, Data Loss: 0.07622363418340683, Physics Loss: 2383588864.0\n",
            "Epoch 2300, Loss: 2291352576.0, Data Loss: 0.07123471796512604, Physics Loss: 2291352576.0\n",
            "Epoch 2350, Loss: 2202841344.0, Data Loss: 0.0664590373635292, Physics Loss: 2202841344.0\n",
            "Epoch 2400, Loss: 2116594688.0, Data Loss: 0.061857711523771286, Physics Loss: 2116594688.0\n",
            "Epoch 2450, Loss: 2031557760.0, Data Loss: 0.057887401431798935, Physics Loss: 2031557760.0\n",
            "Epoch 2500, Loss: 1950710272.0, Data Loss: 0.05349969118833542, Physics Loss: 1950710272.0\n",
            "Epoch 2550, Loss: 1871860480.0, Data Loss: 0.049773700535297394, Physics Loss: 1871860480.0\n",
            "Epoch 2600, Loss: 1796568832.0, Data Loss: 0.046030234545469284, Physics Loss: 1796568832.0\n",
            "Epoch 2650, Loss: 1722319616.0, Data Loss: 0.0422622449696064, Physics Loss: 1722319616.0\n",
            "Epoch 2700, Loss: 1648461824.0, Data Loss: 0.03943612799048424, Physics Loss: 1648461824.0\n",
            "Epoch 2750, Loss: 1579605760.0, Data Loss: 0.03640278801321983, Physics Loss: 1579605760.0\n",
            "Epoch 2800, Loss: 1515954304.0, Data Loss: 0.03381267935037613, Physics Loss: 1515954304.0\n",
            "Epoch 2850, Loss: 1443059712.0, Data Loss: 0.03085486777126789, Physics Loss: 1443059712.0\n",
            "Epoch 2900, Loss: 1375025408.0, Data Loss: 0.028746167197823524, Physics Loss: 1375025408.0\n",
            "Epoch 2950, Loss: 1263411072.0, Data Loss: 0.02442471869289875, Physics Loss: 1263411072.0\n",
            "Epoch 3000, Loss: 1196047488.0, Data Loss: 0.02247953973710537, Physics Loss: 1196047488.0\n",
            "Epoch 3050, Loss: 1130563584.0, Data Loss: 0.02054828777909279, Physics Loss: 1130563584.0\n",
            "Epoch 3100, Loss: 1073486976.0, Data Loss: 0.018630942329764366, Physics Loss: 1073486976.0\n",
            "Epoch 3150, Loss: 1009764800.0, Data Loss: 0.016962360590696335, Physics Loss: 1009764800.0\n",
            "Epoch 3200, Loss: 950546752.0, Data Loss: 0.015508491545915604, Physics Loss: 950546752.0\n",
            "Epoch 3250, Loss: 893016064.0, Data Loss: 0.014130953699350357, Physics Loss: 893016064.0\n",
            "Epoch 3300, Loss: 835574016.0, Data Loss: 0.012725508771836758, Physics Loss: 835574016.0\n",
            "Epoch 3350, Loss: 788329792.0, Data Loss: 0.01145704835653305, Physics Loss: 788329792.0\n",
            "Epoch 3400, Loss: 731531072.0, Data Loss: 0.010722107253968716, Physics Loss: 731531072.0\n",
            "Epoch 3450, Loss: 671197952.0, Data Loss: 0.009676946327090263, Physics Loss: 671197952.0\n",
            "Epoch 3500, Loss: 635863680.0, Data Loss: 0.008576908148825169, Physics Loss: 635863680.0\n",
            "Epoch 3550, Loss: 579163712.0, Data Loss: 0.008162831887602806, Physics Loss: 579163712.0\n",
            "Epoch 3600, Loss: 545741888.0, Data Loss: 0.0068551236763596535, Physics Loss: 545741888.0\n",
            "Epoch 3650, Loss: 496716992.0, Data Loss: 0.006690725684165955, Physics Loss: 496716992.0\n",
            "Epoch 3700, Loss: 461943136.0, Data Loss: 0.006258418317884207, Physics Loss: 461943136.0\n",
            "Epoch 3750, Loss: 430155168.0, Data Loss: 0.0048165940679609776, Physics Loss: 430155168.0\n",
            "Epoch 3800, Loss: 418101344.0, Data Loss: 0.004391761962324381, Physics Loss: 418101344.0\n",
            "Epoch 3850, Loss: 374571552.0, Data Loss: 0.004019806627184153, Physics Loss: 374571552.0\n",
            "Epoch 3900, Loss: 334451104.0, Data Loss: 0.003714431542903185, Physics Loss: 334451104.0\n",
            "Epoch 3950, Loss: 319970080.0, Data Loss: 0.0034884302876889706, Physics Loss: 319970080.0\n"
          ]
        }
      ],
      "source": [
        "#Train the PINN model\n",
        "pinn_model = Net(n_units=100)\n",
        "train_model(pinn_model, x_train_tf, t_train_tf, epochs=4000)"
      ]
    },
    {
      "cell_type": "code",
      "execution_count": 8,
      "metadata": {
        "colab": {
          "base_uri": "https://localhost:8080/"
        },
        "id": "wJJSG4aS75zJ",
        "outputId": "473dceef-bd12-4458-e0d0-68cf422ecda4"
      },
      "outputs": [
        {
          "output_type": "stream",
          "name": "stdout",
          "text": [
            "\u001b[1m32/32\u001b[0m \u001b[32m━━━━━━━━━━━━━━━━━━━━\u001b[0m\u001b[37m\u001b[0m \u001b[1m0s\u001b[0m 5ms/step\n"
          ]
        }
      ],
      "source": [
        "#Generate test predictions\n",
        "x_test = np.linspace(0.0, 0.02, 1000).reshape(-1, 1)\n",
        "x_test_scaled = x_test/L\n",
        "x_test_tf = tf.convert_to_tensor(x_test_scaled, dtype=tf.float32)\n",
        "\n",
        "y_pred = pinn_model.predict(x_test_tf)\n",
        "y_pred_rescaled = np.exp(y_pred)"
      ]
    },
    {
      "cell_type": "code",
      "execution_count": 9,
      "metadata": {
        "colab": {
          "base_uri": "https://localhost:8080/",
          "height": 564
        },
        "id": "3AjGC2vjOcKp",
        "outputId": "449a33b1-2dc2-4d0b-a8bc-35a07ed2330c"
      },
      "outputs": [
        {
          "output_type": "display_data",
          "data": {
            "text/plain": [
              "<Figure size 1000x600 with 1 Axes>"
            ],
            "image/png": "[encoded data removed]"
          },
          "metadata": {}
        }
      ],
      "source": [
        "#Plot results\n",
        "plt.figure(figsize=(10, 6))\n",
        "plt.scatter(x_train, t_train, color='black', label='Training Data')\n",
        "plt.plot(x_test, np.array([eq(xi) for xi in x_test]), 'k', label='Exact Solution')\n",
        "plt.plot(x_test, y_pred_rescaled, '--r', label='PINN Prediction')\n",
        "plt.xlabel('Distance (m)')\n",
        "plt.ylabel('Time (s)')\n",
        "plt.legend()\n",
        "plt.grid(True)\n",
        "plt.title('PINN Prediction of y(x)')\n",
        "plt.show()"
      ]
    }
  ],
  "metadata": {
    "colab": {
      "provenance": []
    },
    "kernelspec": {
      "display_name": "Python 3",
      "name": "python3"
    },
    "language_info": {
      "name": "python"
    }
  },
  "nbformat": 4,
  "nbformat_minor": 0
}